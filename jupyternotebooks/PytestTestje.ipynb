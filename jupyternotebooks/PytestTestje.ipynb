{
 "cells": [
  {
   "cell_type": "code",
   "execution_count": 2,
   "id": "531a1180-2a81-4eee-ba76-ba6bdec77d56",
   "metadata": {
    "jp-MarkdownHeadingCollapsed": true,
    "tags": []
   },
   "outputs": [],
   "source": [
    "%%capture\n",
    "!pip install ipytest\n",
    "\n",
    "import ipytest\n",
    "ipytest.autoconfig()"
   ]
  },
  {
   "cell_type": "markdown",
   "id": "656ae7d0-5571-481a-b4a9-3e1e008bcafd",
   "metadata": {
    "tags": []
   },
   "source": [
    "# Assignment: Greatest common divisor\n",
    "\n",
    "Write a function to calculate the greatest common divisor (`gcd`) of its two parameters $x$ and $y$, which are integers and greater than zero.\n",
    "\n",
    "1. Use Euclid's algorithm. Let $x$ e $y$ be the original values of the variables $a$ and $b$, the algorithm says:\n",
    "\n",
    "> As long as a and b are not equal, change the greater of the two for the difference between the greater and the lesser. \n",
    "When they have the same value, that's the `gcd` of $x$ and $y$.\n",
    "\n",
    "Properties on which the Euclid algorithm is based:\n",
    "\n",
    "-   At the end of each iteration: `gcd`($x$, $y$)= `gcd`($a$, $b$)\n",
    "\n",
    "-   This property is a consequence of the mathematical property:\n",
    "\n",
    "    -   `gcd`($a$, $b$) = `gcd`($a - b$, $b$) when $a > b$\n",
    "\n",
    "    -   `gcd`($a$, $b$) = `gcd`($a$, $b - a$) when $b > a$\n",
    "\n",
    "-   When finally $a = b$, `gcd`($x$, $y$) = `gcd`($a$, $b$)\n",
    "\n",
    "Write pytests to test your implementation. \n",
    "If we read the description of the exercise well, we see that the function does not have to work for numbers that are not greater than 0."
   ]
  },
  {
   "cell_type": "code",
   "execution_count": 3,
   "id": "451fd79f-d8d4-4fab-acc3-692a7b6163dd",
   "metadata": {
    "tags": []
   },
   "outputs": [],
   "source": [
    "# Write your solution in this cell\n",
    "\n",
    "def gcd(a, b):\n",
    "   if a == 0:\n",
    "      return b\n",
    "   return gcd(b%a, a)"
   ]
  },
  {
   "cell_type": "markdown",
   "id": "5d7cc105-93a5-431b-b5dc-df6a06ebc3f8",
   "metadata": {
    "tags": []
   },
   "source": [
    "# Your test cases:\n",
    "\n",
    "1. `gcd(42, 56)` = 14\n",
    "2. `gcd(461952, 116298)` = 18\n",
    "3. `gcd(7966496, 314080416)` = 32\n",
    "4. `gcd(24826148, 45296490)` = 526\n",
    "5. `gcd(12, 0)` = 12\n",
    "6. `gcd(0, 0)` = 0\n",
    "7. `gcd(0, 9)` = 9"
   ]
  },
  {
   "cell_type": "code",
   "execution_count": 4,
   "id": "f6d006c8-3da8-41a3-b60d-3483aef14b06",
   "metadata": {
    "tags": []
   },
   "outputs": [],
   "source": [
    "# Write your unit tests in this cell\n",
    "\n",
    "def test_gcd():\n",
    "    assert gcd(42, 56) == 14\n",
    "    assert gcd(461952, 116298) == 18\n",
    "    assert gcd(7966496, 314080416) == 32\n",
    "    assert gcd(24826148, 45296490) == 526\n",
    "    assert gcd(12, 0) == 12\n",
    "    assert gcd(0, 0) == 0\n",
    "    assert gcd(0, 9) == 9"
   ]
  },
  {
   "cell_type": "code",
   "execution_count": 5,
   "id": "5c6d8d87-ba88-4237-9900-0f4d6f68a644",
   "metadata": {
    "tags": []
   },
   "outputs": [
    {
     "name": "stdout",
     "output_type": "stream",
     "text": [
      "\u001b[32m.\u001b[0m\u001b[32m                                                                                            [100%]\u001b[0m\n",
      "\u001b[32m\u001b[32m\u001b[1m1 passed\u001b[0m\u001b[32m in 0.01s\u001b[0m\u001b[0m\n"
     ]
    }
   ],
   "source": [
    "# This cell runs the unit tests, you don't need to change anything in this cell\n",
    "ipytest.run()    "
   ]
  }
 ],
 "metadata": {
  "kernelspec": {
   "display_name": "Python 3 (ipykernel)",
   "language": "python",
   "name": "python3"
  },
  "language_info": {
   "codemirror_mode": {
    "name": "ipython",
    "version": 3
   },
   "file_extension": ".py",
   "mimetype": "text/x-python",
   "name": "python",
   "nbconvert_exporter": "python",
   "pygments_lexer": "ipython3",
   "version": "3.9.10"
  }
 },
 "nbformat": 4,
 "nbformat_minor": 5
}
